{
 "cells": [
  {
   "cell_type": "code",
   "execution_count": 1,
   "metadata": {},
   "outputs": [],
   "source": [
    "import pandas as pd"
   ]
  },
  {
   "cell_type": "code",
   "execution_count": 14,
   "metadata": {},
   "outputs": [],
   "source": [
    "df=pd.read_csv(\"C:\\\\Users\\\\preetham\\\\Desktop\\\\WFT_SUV_EX_R1_.csv\")"
   ]
  },
  {
   "cell_type": "code",
   "execution_count": 15,
   "metadata": {},
   "outputs": [
    {
     "data": {
      "text/plain": [
       "Index(['Time', 'Veh_Speed', 'CS_RR', 'CS_RL', 'ARB_R', 'AXLE_RR_Z',\n",
       "       'AXLE_RL_Z', 'RR_Mz', 'RR_Mx', 'RR_Fz', 'RR_Fy', 'RR_Fx', 'RL_Mz',\n",
       "       'RL_Fz', 'RL_Fx', 'RRA_Z', 'RLA_Z', 'CG_X', 'CG_Y', 'CG_Z', 'pca2',\n",
       "       'pca1'],\n",
       "      dtype='object')"
      ]
     },
     "execution_count": 15,
     "metadata": {},
     "output_type": "execute_result"
    }
   ],
   "source": [
    "df.columns"
   ]
  },
  {
   "cell_type": "code",
   "execution_count": 16,
   "metadata": {},
   "outputs": [
    {
     "data": {
      "text/plain": [
       "(1048570, 22)"
      ]
     },
     "execution_count": 16,
     "metadata": {},
     "output_type": "execute_result"
    }
   ],
   "source": [
    "df.shape"
   ]
  },
  {
   "cell_type": "code",
   "execution_count": 17,
   "metadata": {},
   "outputs": [
    {
     "data": {
      "text/html": [
       "<div>\n",
       "<style scoped>\n",
       "    .dataframe tbody tr th:only-of-type {\n",
       "        vertical-align: middle;\n",
       "    }\n",
       "\n",
       "    .dataframe tbody tr th {\n",
       "        vertical-align: top;\n",
       "    }\n",
       "\n",
       "    .dataframe thead th {\n",
       "        text-align: right;\n",
       "    }\n",
       "</style>\n",
       "<table border=\"1\" class=\"dataframe\">\n",
       "  <thead>\n",
       "    <tr style=\"text-align: right;\">\n",
       "      <th></th>\n",
       "      <th>Time</th>\n",
       "      <th>Veh_Speed</th>\n",
       "      <th>CS_RR</th>\n",
       "      <th>CS_RL</th>\n",
       "      <th>ARB_R</th>\n",
       "      <th>AXLE_RR_Z</th>\n",
       "      <th>AXLE_RL_Z</th>\n",
       "      <th>RR_Mz</th>\n",
       "      <th>RR_Mx</th>\n",
       "      <th>RR_Fz</th>\n",
       "      <th>...</th>\n",
       "      <th>RL_Mz</th>\n",
       "      <th>RL_Fz</th>\n",
       "      <th>RL_Fx</th>\n",
       "      <th>RRA_Z</th>\n",
       "      <th>RLA_Z</th>\n",
       "      <th>CG_X</th>\n",
       "      <th>CG_Y</th>\n",
       "      <th>CG_Z</th>\n",
       "      <th>pca2</th>\n",
       "      <th>pca1</th>\n",
       "    </tr>\n",
       "  </thead>\n",
       "  <tbody>\n",
       "    <tr>\n",
       "      <th>0</th>\n",
       "      <td>0.00000</td>\n",
       "      <td>0.01</td>\n",
       "      <td>0.791329</td>\n",
       "      <td>1.208697</td>\n",
       "      <td>-0.898207</td>\n",
       "      <td>-0.021657</td>\n",
       "      <td>0.321546</td>\n",
       "      <td>11.75</td>\n",
       "      <td>30.25</td>\n",
       "      <td>5800.0</td>\n",
       "      <td>...</td>\n",
       "      <td>10.0</td>\n",
       "      <td>6248.0</td>\n",
       "      <td>-130</td>\n",
       "      <td>0.982929</td>\n",
       "      <td>0.935858</td>\n",
       "      <td>0.257350</td>\n",
       "      <td>0.065857</td>\n",
       "      <td>1.057121</td>\n",
       "      <td>-235.643066</td>\n",
       "      <td>100.862209</td>\n",
       "    </tr>\n",
       "    <tr>\n",
       "      <th>1</th>\n",
       "      <td>0.00195</td>\n",
       "      <td>0.01</td>\n",
       "      <td>-0.363756</td>\n",
       "      <td>1.974889</td>\n",
       "      <td>-0.898207</td>\n",
       "      <td>-0.021657</td>\n",
       "      <td>0.477120</td>\n",
       "      <td>11.50</td>\n",
       "      <td>31.00</td>\n",
       "      <td>5804.0</td>\n",
       "      <td>...</td>\n",
       "      <td>11.0</td>\n",
       "      <td>6248.0</td>\n",
       "      <td>-126</td>\n",
       "      <td>0.981349</td>\n",
       "      <td>0.929481</td>\n",
       "      <td>0.251120</td>\n",
       "      <td>0.070528</td>\n",
       "      <td>1.054010</td>\n",
       "      <td>-234.744191</td>\n",
       "      <td>109.601234</td>\n",
       "    </tr>\n",
       "    <tr>\n",
       "      <th>2</th>\n",
       "      <td>0.00391</td>\n",
       "      <td>0.01</td>\n",
       "      <td>-1.326327</td>\n",
       "      <td>2.166437</td>\n",
       "      <td>-1.055078</td>\n",
       "      <td>-0.021657</td>\n",
       "      <td>0.477120</td>\n",
       "      <td>12.75</td>\n",
       "      <td>30.75</td>\n",
       "      <td>5802.0</td>\n",
       "      <td>...</td>\n",
       "      <td>11.5</td>\n",
       "      <td>6248.0</td>\n",
       "      <td>-120</td>\n",
       "      <td>0.984509</td>\n",
       "      <td>0.927886</td>\n",
       "      <td>0.248006</td>\n",
       "      <td>0.068971</td>\n",
       "      <td>1.046232</td>\n",
       "      <td>-234.552370</td>\n",
       "      <td>100.862209</td>\n",
       "    </tr>\n",
       "    <tr>\n",
       "      <th>3</th>\n",
       "      <td>0.00586</td>\n",
       "      <td>0.01</td>\n",
       "      <td>-1.711355</td>\n",
       "      <td>1.783341</td>\n",
       "      <td>-1.055078</td>\n",
       "      <td>-0.021657</td>\n",
       "      <td>0.477120</td>\n",
       "      <td>12.75</td>\n",
       "      <td>30.00</td>\n",
       "      <td>5800.0</td>\n",
       "      <td>...</td>\n",
       "      <td>11.5</td>\n",
       "      <td>6252.0</td>\n",
       "      <td>-116</td>\n",
       "      <td>0.987669</td>\n",
       "      <td>0.935858</td>\n",
       "      <td>0.251120</td>\n",
       "      <td>0.062743</td>\n",
       "      <td>1.033787</td>\n",
       "      <td>-233.653494</td>\n",
       "      <td>96.895292</td>\n",
       "    </tr>\n",
       "    <tr>\n",
       "      <th>4</th>\n",
       "      <td>0.00781</td>\n",
       "      <td>0.01</td>\n",
       "      <td>-0.941299</td>\n",
       "      <td>1.208697</td>\n",
       "      <td>-0.898207</td>\n",
       "      <td>0.133366</td>\n",
       "      <td>0.321546</td>\n",
       "      <td>12.75</td>\n",
       "      <td>29.50</td>\n",
       "      <td>5802.0</td>\n",
       "      <td>...</td>\n",
       "      <td>11.0</td>\n",
       "      <td>6250.0</td>\n",
       "      <td>-114</td>\n",
       "      <td>0.986089</td>\n",
       "      <td>0.947020</td>\n",
       "      <td>0.258907</td>\n",
       "      <td>0.053401</td>\n",
       "      <td>1.026009</td>\n",
       "      <td>-232.933533</td>\n",
       "      <td>94.032027</td>\n",
       "    </tr>\n",
       "  </tbody>\n",
       "</table>\n",
       "<p>5 rows × 22 columns</p>\n",
       "</div>"
      ],
      "text/plain": [
       "      Time  Veh_Speed     CS_RR     CS_RL     ARB_R  AXLE_RR_Z  AXLE_RL_Z  \\\n",
       "0  0.00000       0.01  0.791329  1.208697 -0.898207  -0.021657   0.321546   \n",
       "1  0.00195       0.01 -0.363756  1.974889 -0.898207  -0.021657   0.477120   \n",
       "2  0.00391       0.01 -1.326327  2.166437 -1.055078  -0.021657   0.477120   \n",
       "3  0.00586       0.01 -1.711355  1.783341 -1.055078  -0.021657   0.477120   \n",
       "4  0.00781       0.01 -0.941299  1.208697 -0.898207   0.133366   0.321546   \n",
       "\n",
       "   RR_Mz  RR_Mx   RR_Fz     ...      RL_Mz   RL_Fz  RL_Fx     RRA_Z     RLA_Z  \\\n",
       "0  11.75  30.25  5800.0     ...       10.0  6248.0   -130  0.982929  0.935858   \n",
       "1  11.50  31.00  5804.0     ...       11.0  6248.0   -126  0.981349  0.929481   \n",
       "2  12.75  30.75  5802.0     ...       11.5  6248.0   -120  0.984509  0.927886   \n",
       "3  12.75  30.00  5800.0     ...       11.5  6252.0   -116  0.987669  0.935858   \n",
       "4  12.75  29.50  5802.0     ...       11.0  6250.0   -114  0.986089  0.947020   \n",
       "\n",
       "       CG_X      CG_Y      CG_Z        pca2        pca1  \n",
       "0  0.257350  0.065857  1.057121 -235.643066  100.862209  \n",
       "1  0.251120  0.070528  1.054010 -234.744191  109.601234  \n",
       "2  0.248006  0.068971  1.046232 -234.552370  100.862209  \n",
       "3  0.251120  0.062743  1.033787 -233.653494   96.895292  \n",
       "4  0.258907  0.053401  1.026009 -232.933533   94.032027  \n",
       "\n",
       "[5 rows x 22 columns]"
      ]
     },
     "execution_count": 17,
     "metadata": {},
     "output_type": "execute_result"
    }
   ],
   "source": [
    "df.head()"
   ]
  },
  {
   "cell_type": "code",
   "execution_count": 18,
   "metadata": {},
   "outputs": [],
   "source": [
    "from sklearn.preprocessing import StandardScaler"
   ]
  },
  {
   "cell_type": "code",
   "execution_count": 19,
   "metadata": {},
   "outputs": [],
   "source": [
    "normalizedata=df"
   ]
  },
  {
   "cell_type": "code",
   "execution_count": 29,
   "metadata": {},
   "outputs": [],
   "source": [
    "X=df[[ 'Time', 'Veh_Speed', 'CS_RR', 'CS_RL', 'ARB_R', 'AXLE_RR_Z',\n",
    "       'AXLE_RL_Z', 'RR_Mz', 'RR_Mx', 'RR_Fz', 'RR_Fy', 'RR_Fx', 'RL_Mz',\n",
    "       'RL_Fz', 'RL_Fx', 'RRA_Z', 'RLA_Z', 'CG_X', 'CG_Y', 'CG_Z', 'pca2',\n",
    "       'pca1']]"
   ]
  },
  {
   "cell_type": "code",
   "execution_count": 21,
   "metadata": {},
   "outputs": [
    {
     "name": "stderr",
     "output_type": "stream",
     "text": [
      "C:\\Users\\preetham\\Anaconda3\\lib\\site-packages\\sklearn\\utils\\validation.py:475: DataConversionWarning: Data with input dtype int64 was converted to float64 by StandardScaler.\n",
      "  warnings.warn(msg, DataConversionWarning)\n"
     ]
    }
   ],
   "source": [
    "def Normalization(num):\n",
    "    normalizedata[X.columns[i]]=StandardScaler().fit_transform(df[X.columns[i]].values.reshape(-1,1))\n",
    "for i in range(0,21):\n",
    "    Normalization(i)"
   ]
  },
  {
   "cell_type": "code",
   "execution_count": 30,
   "metadata": {},
   "outputs": [],
   "source": [
    "from sklearn.cluster import KMeans"
   ]
  },
  {
   "cell_type": "code",
   "execution_count": 31,
   "metadata": {},
   "outputs": [],
   "source": [
    "kmeans =KMeans(n_clusters=2)"
   ]
  },
  {
   "cell_type": "code",
   "execution_count": 32,
   "metadata": {},
   "outputs": [
    {
     "data": {
      "text/plain": [
       "KMeans(algorithm='auto', copy_x=True, init='k-means++', max_iter=300,\n",
       "    n_clusters=2, n_init=10, n_jobs=1, precompute_distances='auto',\n",
       "    random_state=None, tol=0.0001, verbose=0)"
      ]
     },
     "execution_count": 32,
     "metadata": {},
     "output_type": "execute_result"
    }
   ],
   "source": [
    "kmeans.fit(df)"
   ]
  },
  {
   "cell_type": "code",
   "execution_count": 34,
   "metadata": {},
   "outputs": [],
   "source": [
    "count1=0\n",
    "count2=0\n",
    "for i in kmeans.labels_:\n",
    "    if i==1:\n",
    "        count1=count1+1\n",
    "    else:\n",
    "        count2=count2+1"
   ]
  },
  {
   "cell_type": "code",
   "execution_count": 35,
   "metadata": {},
   "outputs": [],
   "source": [
    "import seaborn as sn"
   ]
  },
  {
   "cell_type": "code",
   "execution_count": 36,
   "metadata": {},
   "outputs": [],
   "source": [
    "k=list()\n",
    "for i in kmeans.labels_:\n",
    "    k.append(i)\n",
    "k=pd.DataFrame(k,columns=[\"clusters\"])"
   ]
  },
  {
   "cell_type": "code",
   "execution_count": 37,
   "metadata": {},
   "outputs": [
    {
     "name": "stderr",
     "output_type": "stream",
     "text": [
      "C:\\Users\\preetham\\Anaconda3\\lib\\site-packages\\matplotlib\\axes\\_axes.py:6462: UserWarning: The 'normed' kwarg is deprecated, and has been replaced by the 'density' kwarg.\n",
      "  warnings.warn(\"The 'normed' kwarg is deprecated, and has been \"\n"
     ]
    },
    {
     "data": {
      "text/plain": [
       "<matplotlib.axes._subplots.AxesSubplot at 0x1f500b921d0>"
      ]
     },
     "execution_count": 37,
     "metadata": {},
     "output_type": "execute_result"
    },
    {
     "data": {
      "image/png": "[encoded data removed]",
      "text/plain": [
       "<Figure size 432x288 with 1 Axes>"
      ]
     },
     "metadata": {},
     "output_type": "display_data"
    }
   ],
   "source": [
    "sn.distplot(k[\"clusters\"],kde=False,color=\"red\")"
   ]
  },
  {
   "cell_type": "code",
   "execution_count": null,
   "metadata": {},
   "outputs": [],
   "source": []
  }
 ],
 "metadata": {
  "kernelspec": {
   "display_name": "Python 3",
   "language": "python",
   "name": "python3"
  },
  "language_info": {
   "codemirror_mode": {
    "name": "ipython",
    "version": 3
   },
   "file_extension": ".py",
   "mimetype": "text/x-python",
   "name": "python",
   "nbconvert_exporter": "python",
   "pygments_lexer": "ipython3",
   "version": "3.6.5"
  }
 },
 "nbformat": 4,
 "nbformat_minor": 2
}
